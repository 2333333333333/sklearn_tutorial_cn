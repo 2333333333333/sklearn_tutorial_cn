{
 "cells": [
  {
   "cell_type": "markdown",
   "metadata": {},
   "source": [
    "这个分析笔记由[Jake Vanderplas](http://www.vanderplas.com)编辑汇总。 源代码和license文件在[GitHub](https://github.com/jakevdp/sklearn_tutorial/)。 中文翻译由[派兰数据](http://datarx.cn)在[派兰大数据分析平台](http://www.palandata.com)上完成。 源代码在[GitHub](https://github.com/palandatarxcom/sklearn_tutorial_cn)上。"
   ]
  },
  {
   "cell_type": "markdown",
   "metadata": {},
   "source": [
    "# scikit-learn简介: 基于Python的机器学习"
   ]
  },
  {
   "cell_type": "markdown",
   "metadata": {},
   "source": [
    "# 教程目标"
   ]
  },
  {
   "cell_type": "markdown",
   "metadata": {},
   "source": [
    "- **介绍机器学习的基础**，和一些实用的技巧。\n",
    "- **介绍scikit-learn的结构**，以便于您可以使用这个功能强大的工具。"
   ]
  },
  {
   "cell_type": "markdown",
   "metadata": {},
   "source": [
    "## 目录："
   ]
  },
  {
   "cell_type": "markdown",
   "metadata": {},
   "source": [
    "**使用前提：安装&介绍** (15 分钟)\n",
    "* 确保您的计算机已经成功安装\n",
    "\n",
    "**机器学习的基本原理和Scikit-learn的接口** (45 分钟)\n",
    "* 什么是机器学习\n",
    "* 机器学习的数据框架\n",
    "* 监督学习\n",
    "    - 分类算法\n",
    "    - 回归算法\n",
    "    - 结果评估算法\n",
    "* 无监督学习\n",
    "    - 聚类算法\n",
    "    - 降维算法\n",
    "    - 密度估计\n",
    "* 机器学习模型的评估\n",
    "* 为您的数据集选择正确的算法\n",
    "    \n",
    "**深入探索监督学习** (1 小时)\n",
    "* 支持向量机\n",
    "* 决策树和随机森林\n",
    "\n",
    "**深入探索无监督学习** (1 小时)\n",
    "* 主成分分析\n",
    "* K-means聚类\n",
    "* 高斯混合模型\n",
    "\n",
    "**模型验证** (1 小时)\n",
    "* 验证和交叉验证"
   ]
  },
  {
   "cell_type": "markdown",
   "metadata": {},
   "source": [
    "## 使用前提"
   ]
  },
  {
   "cell_type": "markdown",
   "metadata": {},
   "source": [
    "本教程需要安装以下的包：\n",
    "\n",
    "- Python 2.7 或者 3.4+\n",
    "- `numpy` 1.8 或者更新版本: http://www.numpy.org/\n",
    "- `scipy` 0.15 或者更新版本: http://www.scipy.org/\n",
    "- `matplotlib` 1.3 或者更新版本: http://matplotlib.org/\n",
    "- `scikit-learn` 0.15 或者更新版本: http://scikit-learn.org\n",
    "- `ipython`/`jupyter` 3.0 或者更新版本，支持python notebook: http://ipython.org\n",
    "- `seaborn`: 0.5 或者更新版本，用于图片的规格化\n",
    "\n",
    "最简单的安装方法是使用 [conda](http://store.continuum.io/) 环境管理工具。我建议下载和安装[miniconda](http://conda.pydata.org/miniconda.html)。\n",
    "\n",
    "下面的命令会自动安装所有需要的包：\n",
    "```\n",
    "$ conda install numpy scipy matplotlib scikit-learn ipython-notebook\n",
    "```\n",
    "\n",
    "另外，您可以选择下载和安装 Anaconda 软件发行版（非常大），可以在https://store.continuum.io/ 中找到。\n",
    "\n",
    "**【译者注】在派兰大数据分析和人工智能平台上免费注册，即可拥有上述所有的包，本教程所有分析笔记也在派兰分析平台上同步，方便交互式学习。**\n"
   ]
  },
  {
   "cell_type": "markdown",
   "metadata": {},
   "source": [
    "### 检查您的安装\n",
    "\n",
    "您可以运行如下命令去检查您安装的包的版本：\n",
    "\n",
    "（在 IPython notebook中，同时按下 `shift` 和 `return` 可以运行一个单元的内容）"
   ]
  },
  {
   "cell_type": "code",
   "execution_count": null,
   "metadata": {
    "collapsed": true
   },
   "outputs": [],
   "source": [
    "from __future__ import print_function\n",
    "\n",
    "import IPython\n",
    "print('IPython:', IPython.__version__)\n",
    "\n",
    "import numpy\n",
    "print('numpy:', numpy.__version__)\n",
    "\n",
    "import scipy\n",
    "print('scipy:', scipy.__version__)\n",
    "\n",
    "import matplotlib\n",
    "print('matplotlib:', matplotlib.__version__)\n",
    "\n",
    "import sklearn\n",
    "print('scikit-learn:', sklearn.__version__)\n",
    "\n",
    "import seaborn\n",
    "print('seaborn', seaborn.__version__)"
   ]
  },
  {
   "cell_type": "markdown",
   "metadata": {},
   "source": [
    "## 实用资源"
   ]
  },
  {
   "cell_type": "markdown",
   "metadata": {},
   "source": [
    "- **scikit-learn:** http://scikit-learn.org (重点在narrative文档)\n",
    "- **matplotlib:** http://matplotlib.org (重点在gallery节)\n",
    "- **IPython:** http://ipython.org （还可以看 http://nbviewer.ipython.org)"
   ]
  },
  {
   "cell_type": "code",
   "execution_count": null,
   "metadata": {
    "collapsed": true
   },
   "outputs": [],
   "source": []
  }
 ],
 "metadata": {
  "kernelspec": {
   "display_name": "Python 3",
   "language": "python",
   "name": "python3"
  },
  "language_info": {
   "codemirror_mode": {
    "name": "ipython",
    "version": 3
   },
   "file_extension": ".py",
   "mimetype": "text/x-python",
   "name": "python",
   "nbconvert_exporter": "python",
   "pygments_lexer": "ipython3",
   "version": "3.6.1"
  }
 },
 "nbformat": 4,
 "nbformat_minor": 2
}
