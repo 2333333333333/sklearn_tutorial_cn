{
 "cells": [
  {
   "cell_type": "markdown",
   "metadata": {},
   "source": [
    "# scikit-learn的简介: 基于Python的机器学习"
   ]
  },
  {
   "cell_type": "markdown",
   "metadata": {},
   "source": [
    "# 教程目标"
   ]
  },
  {
   "cell_type": "markdown",
   "metadata": {},
   "source": [
    "- **介绍机器学习的基础**，和一些实用的技巧。\n",
    "- **介绍scikit-learn的结构**，以便于您可以使用这个功能强大的工具。"
   ]
  },
  {
   "cell_type": "markdown",
   "metadata": {},
   "source": [
    "## 目录："
   ]
  },
  {
   "cell_type": "markdown",
   "metadata": {},
   "source": [
    "**使用前提：安装&介绍** (15 分钟)\n",
    "* 确保您的计算器已经成功安装\n",
    "\n",
    "**机器学习的基本原理和Scikit-learn的接口** (45 分钟)\n",
    "* 什么是机器学习\n",
    "* 机器学习的数据框架\n",
    "* 有监督的学习\n",
    "    - 分类算法\n",
    "    - 回归算法\n",
    "    - 结果评估算法\n",
    "* 无监督的学习\n",
    "    - 聚类算法\n",
    "    - 降维算法\n",
    "    - 密度估计\n",
    "* 机器学习模型的评估\n",
    "* 为您的数据集选择正确的算法\n",
    "    \n",
    "**深入探索有监督的学习** (1 小时)\n",
    "* 支持向量机\n",
    "* 决策树和随机森林\n",
    "\n",
    "**深入探索无监督的学习** (1 小时)\n",
    "* 主成分分析\n",
    "* K-means聚类\n",
    "* 高斯混合模型\n",
    "\n",
    "**模型验证** (1 小时)\n",
    "* 验证和交叉验证"
   ]
  },
  {
   "cell_type": "markdown",
   "metadata": {},
   "source": [
    "## 使用前提"
   ]
  },
  {
   "cell_type": "markdown",
   "metadata": {},
   "source": [
    "本教程需要安装以下的包：\n",
    "\n",
    "- Python 2.7 或者 3.4+\n",
    "- `numpy` 1.8 或者更新版本: http://www.numpy.org/\n",
    "- `scipy` 0.15 或者更新版本: http://www.scipy.org/\n",
    "- `matplotlib` 1.3 或者更新版本: http://matplotlib.org/\n",
    "- `scikit-learn` 0.15 或者更新版本: http://scikit-learn.org\n",
    "- `ipython`/`jupyter` 3.0 或者更新版本，支持python notebook: http://ipython.org\n",
    "- `seaborn`: 0.5 或者更新版本，用于图片的规格化\n",
    "\n",
    "最简单的安装方法是使用[conda](http://store.continuum.io/) 环境管理工具。我建议下载和安装[miniconda](http://conda.pydata.org/miniconda.html)。\n",
    "\n",
    "下面的命令会自动安装所有需要的包：\n",
    "```\n",
    "$ conda install numpy scipy matplotlib scikit-learn ipython-notebook\n",
    "```\n",
    "\n",
    "另外，您可以选择下载和安装Anaconda 软件发行版（非常大），可以在https://store.continuum.io/ 中找到。\n"
   ]
  },
  {
   "cell_type": "markdown",
   "metadata": {},
   "source": [
    "### 检查您的安装\n",
    "\n",
    "您可以运行如下命令去检查您安装的包的版本：\n",
    "\n",
    "（在 IPython notebook中，同时按下 `shift` 和 `return` 可以运行一个单元的内容）"
   ]
  },
  {
   "cell_type": "code",
   "execution_count": 1,
   "metadata": {
    "collapsed": false
   },
   "outputs": [
    {
     "name": "stdout",
     "output_type": "stream",
     "text": [
      "IPython: 5.1.0\n",
      "numpy: 1.11.3\n",
      "scipy: 0.18.1\n",
      "matplotlib: 2.0.0\n",
      "scikit-learn: 0.18.1\n",
      "seaborn 0.7.1\n"
     ]
    }
   ],
   "source": [
    "from __future__ import print_function\n",
    "\n",
    "import IPython\n",
    "print('IPython:', IPython.__version__)\n",
    "\n",
    "import numpy\n",
    "print('numpy:', numpy.__version__)\n",
    "\n",
    "import scipy\n",
    "print('scipy:', scipy.__version__)\n",
    "\n",
    "import matplotlib\n",
    "print('matplotlib:', matplotlib.__version__)\n",
    "\n",
    "import sklearn\n",
    "print('scikit-learn:', sklearn.__version__)\n",
    "\n",
    "import seaborn\n",
    "print('seaborn', seaborn.__version__)"
   ]
  },
  {
   "cell_type": "markdown",
   "metadata": {},
   "source": [
    "## 实用资源"
   ]
  },
  {
   "cell_type": "markdown",
   "metadata": {},
   "source": [
    "- **scikit-learn:** http://scikit-learn.org (重点在narrative文档)\n",
    "- **matplotlib:** http://matplotlib.org (重点在gallery节)\n",
    "- **IPython:** http://ipython.org （还可以看） http://nbviewer.ipython.org)"
   ]
  }
 ],
 "metadata": {
  "kernelspec": {
   "display_name": "Python 3",
   "language": "python",
   "name": "python3"
  },
  "language_info": {
   "codemirror_mode": {
    "name": "ipython",
    "version": 3
   },
   "file_extension": ".py",
   "mimetype": "text/x-python",
   "name": "python",
   "nbconvert_exporter": "python",
   "pygments_lexer": "ipython3",
   "version": "3.6.0"
  }
 },
 "nbformat": 4,
 "nbformat_minor": 2
}
